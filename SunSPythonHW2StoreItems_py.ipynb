{
  "nbformat": 4,
  "nbformat_minor": 0,
  "metadata": {
    "colab": {
      "provenance": [],
      "collapsed_sections": [],
      "authorship_tag": "ABX9TyOj83HlHscaZ2Nr9t8AuPnz",
      "include_colab_link": true
    },
    "kernelspec": {
      "name": "python3",
      "display_name": "Python 3"
    },
    "language_info": {
      "name": "python"
    }
  },
  "cells": [
    {
      "cell_type": "markdown",
      "metadata": {
        "id": "view-in-github",
        "colab_type": "text"
      },
      "source": [
        "<a href=\"https://colab.research.google.com/github/pursonlac96/SophieSPythonHw02StoreItems/blob/main/SunSPythonHW2StoreItems_py.ipynb\" target=\"_parent\"><img src=\"https://colab.research.google.com/assets/colab-badge.svg\" alt=\"Open In Colab\"/></a>"
      ]
    },
    {
      "cell_type": "code",
      "execution_count": 2,
      "metadata": {
        "id": "UPqMXLAiUFlQ",
        "colab": {
          "base_uri": "https://localhost:8080/"
        },
        "outputId": "a0b90db4-054b-4c7b-eb96-aff5d98bc660"
      },
      "outputs": [
        {
          "output_type": "stream",
          "name": "stdout",
          "text": [
            "Welcome to the Store\n",
            "Enter item 1's name >> veggie\n",
            "Enter item 2's name >> milk\n",
            "Items are: veggie, milk\n",
            "Enter cost of item 1: 2 2\n",
            "Enter cost of item 2: 3 4\n",
            "Item 1 - veggie with Cost = 2.0\n",
            "Item 2 - milk with Cost = 4.0\n",
            "SubTotal - 6.0\n",
            "Tax Amount - 0.6000000000000001\n"
          ]
        }
      ],
      "source": [
        "# Hard-Coded variable representing the store\n",
        "store = \"Welcome to the Store\"\n",
        "       # print the value of the variable\n",
        "print(store)\n",
        "        # two variables which represent the items to be purchased and input from the user\n",
        "item1 = input(\"Enter item 1's name >> \")\n",
        "item2 = input(\"Enter item 2's name >> \")\n",
        "        # print the items\n",
        "print(\"Items are: {0}, {1}\".format(item1, item2))\n",
        "      # two variables for the cost of each item to be purchased\n",
        "cost1 = float(input(\"Enter cost of item 1: 2 \"))\n",
        "cost2 = float(input(\"Enter cost of item 2: 3 \"))\n",
        "\n",
        "# print the cost with the items\n",
        "print(\"Item 1 - {} with Cost = {}\\nItem 2 - {} with Cost = {}\".format(item1, cost1, item2, cost2))\n",
        "\n",
        "# two variables for computing the subtotal and taxamount for the user\n",
        "          # tax amount is 10% of the cost of the items\n",
        "subtotal = cost1 + cost2 \n",
        "taxAmt = subtotal*0.1\n",
        "# output the subtotal and tax amount\n",
        "print(\"SubTotal - {}\\nTax Amount - {}\".format(subtotal, taxAmt))\n",
        "\n",
        "\n"
      ]
    }
  ]
}